{
  "nbformat": 4,
  "nbformat_minor": 0,
  "metadata": {
    "colab": {
      "name": "Annual_Water_Usage_in_Baltimore.ipynb",
      "provenance": []
    },
    "kernelspec": {
      "name": "python3",
      "display_name": "Python 3"
    },
    "language_info": {
      "name": "python"
    }
  },
  "cells": [
    {
      "cell_type": "markdown",
      "source": [
        "# Task\n",
        "Predict annual water usage in Baltimore"
      ],
      "metadata": {
        "id": "yk_GnyZu2ZQv"
      }
    },
    {
      "cell_type": "code",
      "execution_count": 1,
      "metadata": {
        "colab": {
          "base_uri": "https://localhost:8080/"
        },
        "id": "BuL84mq9zCix",
        "outputId": "061afa1f-64e4-4894-c5fc-45fab0f4bce7"
      },
      "outputs": [
        {
          "output_type": "stream",
          "name": "stdout",
          "text": [
            "Mounted at /content/drive\n"
          ]
        }
      ],
      "source": [
        "# Mounting Google drive\n",
        "\n",
        "from google.colab import drive\n",
        "drive.mount('/content/drive')\n",
        "PATH = \"/content/drive/My Drive/Biased Outliers/Book Study Group/Introduction to Time Series Forecasting with Python/data/\"\n",
        "DATA = 'yearly-water-usage.csv'"
      ]
    },
    {
      "cell_type": "code",
      "source": [
        "# Imports\n",
        "\n",
        "import numpy as np\n",
        "import pandas as pd\n",
        "import matplotlib.pyplot as plt\n",
        "\n",
        "from sklearn.metrics import mean_squared_error"
      ],
      "metadata": {
        "id": "w-hHd2nO3CGk"
      },
      "execution_count": 2,
      "outputs": []
    },
    {
      "cell_type": "code",
      "source": [
        "# Reading in the data\n",
        "\n",
        "df = pd.read_csv(PATH+DATA, index_col=0, parse_dates=True)\n",
        "df.head()"
      ],
      "metadata": {
        "colab": {
          "base_uri": "https://localhost:8080/",
          "height": 238
        },
        "id": "kQrs54V_2w5Z",
        "outputId": "f5b3b248-74ec-4d6f-9102-b41f6d9e05f3"
      },
      "execution_count": 3,
      "outputs": [
        {
          "output_type": "execute_result",
          "data": {
            "text/html": [
              "<div>\n",
              "<style scoped>\n",
              "    .dataframe tbody tr th:only-of-type {\n",
              "        vertical-align: middle;\n",
              "    }\n",
              "\n",
              "    .dataframe tbody tr th {\n",
              "        vertical-align: top;\n",
              "    }\n",
              "\n",
              "    .dataframe thead th {\n",
              "        text-align: right;\n",
              "    }\n",
              "</style>\n",
              "<table border=\"1\" class=\"dataframe\">\n",
              "  <thead>\n",
              "    <tr style=\"text-align: right;\">\n",
              "      <th></th>\n",
              "      <th>Water</th>\n",
              "    </tr>\n",
              "    <tr>\n",
              "      <th>Year</th>\n",
              "      <th></th>\n",
              "    </tr>\n",
              "  </thead>\n",
              "  <tbody>\n",
              "    <tr>\n",
              "      <th>1885-01-01</th>\n",
              "      <td>356</td>\n",
              "    </tr>\n",
              "    <tr>\n",
              "      <th>1886-01-01</th>\n",
              "      <td>386</td>\n",
              "    </tr>\n",
              "    <tr>\n",
              "      <th>1887-01-01</th>\n",
              "      <td>397</td>\n",
              "    </tr>\n",
              "    <tr>\n",
              "      <th>1888-01-01</th>\n",
              "      <td>397</td>\n",
              "    </tr>\n",
              "    <tr>\n",
              "      <th>1889-01-01</th>\n",
              "      <td>413</td>\n",
              "    </tr>\n",
              "  </tbody>\n",
              "</table>\n",
              "</div>"
            ],
            "text/plain": [
              "            Water\n",
              "Year             \n",
              "1885-01-01    356\n",
              "1886-01-01    386\n",
              "1887-01-01    397\n",
              "1888-01-01    397\n",
              "1889-01-01    413"
            ]
          },
          "metadata": {},
          "execution_count": 3
        }
      ]
    },
    {
      "cell_type": "code",
      "source": [
        "# Viewing the shape of the data\n",
        "\n",
        "df.shape"
      ],
      "metadata": {
        "colab": {
          "base_uri": "https://localhost:8080/"
        },
        "id": "Qjg1fZYE6Xmi",
        "outputId": "fc90c99e-4256-40c6-c0d2-2ffd5bbcfa49"
      },
      "execution_count": 4,
      "outputs": [
        {
          "output_type": "execute_result",
          "data": {
            "text/plain": [
              "(79, 1)"
            ]
          },
          "metadata": {},
          "execution_count": 4
        }
      ]
    },
    {
      "cell_type": "code",
      "source": [
        "# Viewing the range of dates\n",
        "\n",
        "print(f\"Time range: {df.index.min()} - {df.index.max()}\")"
      ],
      "metadata": {
        "colab": {
          "base_uri": "https://localhost:8080/"
        },
        "id": "7u32wWXo6a_X",
        "outputId": "5484581a-1bd1-4edd-ac4d-33e0ef9c4d22"
      },
      "execution_count": 5,
      "outputs": [
        {
          "output_type": "stream",
          "name": "stdout",
          "text": [
            "Time range: 1885-01-01 00:00:00 - 1963-01-01 00:00:00\n"
          ]
        }
      ]
    },
    {
      "cell_type": "code",
      "source": [
        "# Checking if there are any duplicate years\n",
        "\n",
        "np.sum(df.index.value_counts() > 1)"
      ],
      "metadata": {
        "colab": {
          "base_uri": "https://localhost:8080/"
        },
        "id": "q0O1GD276lOD",
        "outputId": "b0701a69-c559-4d8b-c8e1-07a5fa3c5879"
      },
      "execution_count": 6,
      "outputs": [
        {
          "output_type": "execute_result",
          "data": {
            "text/plain": [
              "0"
            ]
          },
          "metadata": {},
          "execution_count": 6
        }
      ]
    },
    {
      "cell_type": "code",
      "source": [
        "# Checking the summary statistics\n",
        "\n",
        "df.describe()"
      ],
      "metadata": {
        "colab": {
          "base_uri": "https://localhost:8080/",
          "height": 300
        },
        "id": "5hLZkFoA7JLj",
        "outputId": "72d69775-df22-4bc9-c897-80ccea638a92"
      },
      "execution_count": 7,
      "outputs": [
        {
          "output_type": "execute_result",
          "data": {
            "text/html": [
              "<div>\n",
              "<style scoped>\n",
              "    .dataframe tbody tr th:only-of-type {\n",
              "        vertical-align: middle;\n",
              "    }\n",
              "\n",
              "    .dataframe tbody tr th {\n",
              "        vertical-align: top;\n",
              "    }\n",
              "\n",
              "    .dataframe thead th {\n",
              "        text-align: right;\n",
              "    }\n",
              "</style>\n",
              "<table border=\"1\" class=\"dataframe\">\n",
              "  <thead>\n",
              "    <tr style=\"text-align: right;\">\n",
              "      <th></th>\n",
              "      <th>Water</th>\n",
              "    </tr>\n",
              "  </thead>\n",
              "  <tbody>\n",
              "    <tr>\n",
              "      <th>count</th>\n",
              "      <td>79.000000</td>\n",
              "    </tr>\n",
              "    <tr>\n",
              "      <th>mean</th>\n",
              "      <td>512.025316</td>\n",
              "    </tr>\n",
              "    <tr>\n",
              "      <th>std</th>\n",
              "      <td>75.685072</td>\n",
              "    </tr>\n",
              "    <tr>\n",
              "      <th>min</th>\n",
              "      <td>344.000000</td>\n",
              "    </tr>\n",
              "    <tr>\n",
              "      <th>25%</th>\n",
              "      <td>462.000000</td>\n",
              "    </tr>\n",
              "    <tr>\n",
              "      <th>50%</th>\n",
              "      <td>503.000000</td>\n",
              "    </tr>\n",
              "    <tr>\n",
              "      <th>75%</th>\n",
              "      <td>581.000000</td>\n",
              "    </tr>\n",
              "    <tr>\n",
              "      <th>max</th>\n",
              "      <td>662.000000</td>\n",
              "    </tr>\n",
              "  </tbody>\n",
              "</table>\n",
              "</div>"
            ],
            "text/plain": [
              "            Water\n",
              "count   79.000000\n",
              "mean   512.025316\n",
              "std     75.685072\n",
              "min    344.000000\n",
              "25%    462.000000\n",
              "50%    503.000000\n",
              "75%    581.000000\n",
              "max    662.000000"
            ]
          },
          "metadata": {},
          "execution_count": 7
        }
      ]
    },
    {
      "cell_type": "code",
      "source": [
        "# Plotting the time series\n",
        "\n",
        "plt.plot(df)\n",
        "plt.title('Water Usage from 1885-1963')\n",
        "plt.xlabel('Year')\n",
        "plt.ylabel('Water Usage');"
      ],
      "metadata": {
        "colab": {
          "base_uri": "https://localhost:8080/",
          "height": 295
        },
        "id": "QtGlt7tu7ptU",
        "outputId": "cfc4d613-bda2-41b1-f8fd-b3b31ad4b30b"
      },
      "execution_count": 8,
      "outputs": [
        {
          "output_type": "display_data",
          "data": {
            "image/png": "[encoded data removed]",
            "text/plain": [
              "<Figure size 432x288 with 1 Axes>"
            ]
          },
          "metadata": {
            "needs_background": "light"
          }
        }
      ]
    },
    {
      "cell_type": "markdown",
      "source": [
        "* there is an upward trend\n",
        "* there might be some seaonality within 20 years\n",
        "  * it seems like to spike up and then spike down a bit\n",
        "* big spike around the year 1912-1915"
      ],
      "metadata": {
        "id": "mELkbOnc8IEc"
      }
    },
    {
      "cell_type": "code",
      "source": [
        "# Viewing the distribution\n",
        "\n",
        "plt.hist(df['Water'])\n",
        "plt.title('Distribution of Water Usage from 1886-1963')\n",
        "plt.xlabel('Water Usage')\n",
        "plt.ylabel('Count');"
      ],
      "metadata": {
        "colab": {
          "base_uri": "https://localhost:8080/",
          "height": 295
        },
        "id": "eGNbKFWe80CB",
        "outputId": "02e8ee07-035a-4677-bca7-bdcddcf5cc34"
      },
      "execution_count": 9,
      "outputs": [
        {
          "output_type": "display_data",
          "data": {
            "image/png": "[encoded data removed]",
            "text/plain": [
              "<Figure size 432x288 with 1 Axes>"
            ]
          },
          "metadata": {
            "needs_background": "light"
          }
        }
      ]
    },
    {
      "cell_type": "code",
      "source": [
        "# Splitting the data\n",
        "\n",
        "split_point = df.shape[0] - 10\n",
        "train, valid = df[:split_point], df[split_point:]\n",
        "print(f'Train: {train.shape}, Valid: {valid.shape}')"
      ],
      "metadata": {
        "colab": {
          "base_uri": "https://localhost:8080/"
        },
        "id": "_C3fo0Du5vb0",
        "outputId": "a8131d69-46f5-427a-9ccc-27ba0f881bde"
      },
      "execution_count": 10,
      "outputs": [
        {
          "output_type": "stream",
          "name": "stdout",
          "text": [
            "Train: (69, 1), Valid: (10, 1)\n"
          ]
        }
      ]
    },
    {
      "cell_type": "code",
      "source": [
        "# Converting train into series\n",
        "\n",
        "series = pd.Series(train['Water'])"
      ],
      "metadata": {
        "id": "mzJ4O5uZBiMd"
      },
      "execution_count": 11,
      "outputs": []
    },
    {
      "cell_type": "code",
      "source": [
        "# Splitting the data further into train and test\n",
        "\n",
        "X = series.values\n",
        "X = X.astype('float32')\n",
        "train_size = int(len(X)*0.5)\n",
        "train, test = X[0:train_size], X[train_size:]"
      ],
      "metadata": {
        "id": "N51x5_4C_Gd9"
      },
      "execution_count": 12,
      "outputs": []
    },
    {
      "cell_type": "code",
      "source": [
        "# Walk-Forward Validation\n",
        "\n",
        "history = [x for x in train]\n",
        "predictions = []\n",
        "\n",
        "for i in range(len(test)):\n",
        "  \n",
        "  ## Predictions using Persistance Model\n",
        "  yhat = history[-1]\n",
        "  predictions.append(yhat)\n",
        "\n",
        "  ## Observations\n",
        "  obs = test[i]\n",
        "  history.append(obs)\n",
        "  print(f'>Predicted: {yhat:.3f}, Expected: {obs:.3f}')\n",
        "\n",
        "## Calculating RMSE for Persistance Model\n",
        "rmse = np.sqrt(mean_squared_error(test, predictions))\n",
        "print(f\"RMSE: {rmse:.3f}\")"
      ],
      "metadata": {
        "colab": {
          "base_uri": "https://localhost:8080/"
        },
        "id": "DEvhr3C8BNR7",
        "outputId": "2b0ff5c1-794c-40eb-b5c3-572f4a308461"
      },
      "execution_count": 13,
      "outputs": [
        {
          "output_type": "stream",
          "name": "stdout",
          "text": [
            ">Predicted: 503.000, Expected: 503.000\n",
            ">Predicted: 503.000, Expected: 503.000\n",
            ">Predicted: 503.000, Expected: 515.000\n",
            ">Predicted: 515.000, Expected: 522.000\n",
            ">Predicted: 522.000, Expected: 492.000\n",
            ">Predicted: 492.000, Expected: 503.000\n",
            ">Predicted: 503.000, Expected: 503.000\n",
            ">Predicted: 503.000, Expected: 450.000\n",
            ">Predicted: 450.000, Expected: 432.000\n",
            ">Predicted: 432.000, Expected: 432.000\n",
            ">Predicted: 432.000, Expected: 458.000\n",
            ">Predicted: 458.000, Expected: 462.000\n",
            ">Predicted: 462.000, Expected: 503.000\n",
            ">Predicted: 503.000, Expected: 488.000\n",
            ">Predicted: 488.000, Expected: 466.000\n",
            ">Predicted: 466.000, Expected: 492.000\n",
            ">Predicted: 492.000, Expected: 503.000\n",
            ">Predicted: 503.000, Expected: 515.000\n",
            ">Predicted: 515.000, Expected: 500.000\n",
            ">Predicted: 500.000, Expected: 522.000\n",
            ">Predicted: 522.000, Expected: 575.000\n",
            ">Predicted: 575.000, Expected: 583.000\n",
            ">Predicted: 583.000, Expected: 587.000\n",
            ">Predicted: 587.000, Expected: 628.000\n",
            ">Predicted: 628.000, Expected: 640.000\n",
            ">Predicted: 640.000, Expected: 609.000\n",
            ">Predicted: 609.000, Expected: 606.000\n",
            ">Predicted: 606.000, Expected: 632.000\n",
            ">Predicted: 632.000, Expected: 617.000\n",
            ">Predicted: 617.000, Expected: 613.000\n",
            ">Predicted: 613.000, Expected: 598.000\n",
            ">Predicted: 598.000, Expected: 575.000\n",
            ">Predicted: 575.000, Expected: 564.000\n",
            ">Predicted: 564.000, Expected: 549.000\n",
            ">Predicted: 549.000, Expected: 538.000\n",
            "RMSE: 21.975\n"
          ]
        }
      ]
    },
    {
      "cell_type": "markdown",
      "source": [
        "## Data Analysis"
      ],
      "metadata": {
        "id": "utFuYcDiC428"
      }
    },
    {
      "cell_type": "code",
      "source": [
        "# Plotting a line plot\n",
        "\n",
        "series.plot();\n",
        "plt.title('Water Usage from 1885-1953')\n",
        "plt.xlabel('Year')\n",
        "plt.ylabel('Water Usage');"
      ],
      "metadata": {
        "colab": {
          "base_uri": "https://localhost:8080/",
          "height": 295
        },
        "id": "JoiajB_2-zvr",
        "outputId": "03ab37a6-d0c5-478d-d8c9-ee1803b4f47f"
      },
      "execution_count": 14,
      "outputs": [
        {
          "output_type": "display_data",
          "data": {
            "image/png": "[encoded data removed]",
            "text/plain": [
              "<Figure size 432x288 with 1 Axes>"
            ]
          },
          "metadata": {
            "needs_background": "light"
          }
        }
      ]
    },
    {
      "cell_type": "code",
      "source": [
        "# Plotting density plot\n",
        "\n",
        "plt.figure(1)\n",
        "\n",
        "plt.subplot(2,1,1)\n",
        "series.hist()\n",
        "plt.title('Distribution of Water Usage from 1886-1953')\n",
        "plt.ylabel('Count');\n",
        "\n",
        "plt.subplot(2,1,2)\n",
        "series.plot(kind='kde')\n",
        "plt.xlabel('Water Usage')\n",
        "plt.show()"
      ],
      "metadata": {
        "colab": {
          "base_uri": "https://localhost:8080/",
          "height": 295
        },
        "id": "zaT6Opu7DD9g",
        "outputId": "08be8686-47de-46c4-8616-31176f6e67af"
      },
      "execution_count": 15,
      "outputs": [
        {
          "output_type": "display_data",
          "data": {
            "image/png": "[encoded data removed]",
            "text/plain": [
              "<Figure size 432x288 with 2 Axes>"
            ]
          },
          "metadata": {
            "needs_background": "light"
          }
        }
      ]
    },
    {
      "cell_type": "code",
      "source": [
        "# Boxplots for each decade\n",
        "\n",
        "## Grouping by decade\n",
        "groups = series.groupby(pd.Grouper(freq='10Y'))\n",
        "decades = pd.DataFrame()\n",
        "\n",
        "for name, group in groups:\n",
        "  if len(group.values) is 10:\n",
        "    decades[name.year] = group.values\n",
        "decades.boxplot()\n",
        "plt.show()"
      ],
      "metadata": {
        "colab": {
          "base_uri": "https://localhost:8080/",
          "height": 265
        },
        "id": "dbe2hZasDxbF",
        "outputId": "3a7a0b69-df78-4cb0-9925-276170216a24"
      },
      "execution_count": 16,
      "outputs": [
        {
          "output_type": "display_data",
          "data": {
            "image/png": "[encoded data removed]",
            "text/plain": [
              "<Figure size 432x288 with 1 Axes>"
            ]
          },
          "metadata": {
            "needs_background": "light"
          }
        }
      ]
    },
    {
      "cell_type": "markdown",
      "source": [
        "* the median shows a non-linear positive trend\n",
        "* the spread shows some variabiity\n",
        "* there are some outliers in the first two decades\n",
        "* second to last decade seems to have a lower average consumption"
      ],
      "metadata": {
        "id": "Vd7lWuer50-y"
      }
    },
    {
      "cell_type": "code",
      "source": [
        "# Function that differences the time series\n",
        "\n",
        "def difference(df):\n",
        "  diff = []\n",
        "  for i in range(1, len(df)):\n",
        "    value = df[i] - df[i-1]\n",
        "    diff.append(value)\n",
        "  return pd.Series(diff)"
      ],
      "metadata": {
        "id": "Z6AMJ0GTEDHN"
      },
      "execution_count": 17,
      "outputs": []
    },
    {
      "cell_type": "code",
      "source": [
        "# Differencing the data\n",
        "\n",
        "stationary = difference(X)\n",
        "stationary.index = series.index[1:]"
      ],
      "metadata": {
        "id": "6FF2TLI98DnN"
      },
      "execution_count": 18,
      "outputs": []
    },
    {
      "cell_type": "code",
      "source": [
        "# Checking if the series is stationary\n",
        "\n",
        "from statsmodels.tsa.stattools import adfuller\n",
        "\n",
        "result = adfuller(stationary)\n",
        "print(f'ADF Statistic: {result[0]}')\n",
        "print(f'p-value: {result[1]}')\n",
        "print(f'Critical Values:')\n",
        "for key, value in result[4].items():\n",
        "  print(f'\\t{key}: {value:.3f}')"
      ],
      "metadata": {
        "colab": {
          "base_uri": "https://localhost:8080/"
        },
        "id": "ICFsnrMgGAcf",
        "outputId": "e67bdc8e-989b-45f3-ade0-e49dbc4a88fa"
      },
      "execution_count": 19,
      "outputs": [
        {
          "output_type": "stream",
          "name": "stdout",
          "text": [
            "ADF Statistic: -6.126718808474715\n",
            "p-value: 8.593851954694127e-08\n",
            "Critical Values:\n",
            "\t1%: -3.534\n",
            "\t5%: -2.906\n",
            "\t10%: -2.591\n"
          ]
        },
        {
          "output_type": "stream",
          "name": "stderr",
          "text": [
            "/usr/local/lib/python3.7/dist-packages/statsmodels/tools/_testing.py:19: FutureWarning: pandas.util.testing is deprecated. Use the functions in the public API at pandas.testing instead.\n",
            "  import pandas.util.testing as tm\n"
          ]
        }
      ]
    },
    {
      "cell_type": "markdown",
      "source": [
        "the ADF statistic is smaller than the critical value at 1%\n",
        "* reject the null hypothesis with a significance level of less than 1$\n",
        "  * the process has no unit root\n",
        "  * time series is stationary\n",
        "* suggest that differencing is needed\n",
        "  * at least d = 1"
      ],
      "metadata": {
        "id": "9nfeK-SrHYAV"
      }
    },
    {
      "cell_type": "code",
      "source": [
        "# Plotting the stationary series\n",
        "\n",
        "stationary.plot()\n",
        "plt.show()"
      ],
      "metadata": {
        "colab": {
          "base_uri": "https://localhost:8080/",
          "height": 279
        },
        "id": "ai2NnSBOG2HY",
        "outputId": "f9bbe28e-fdbd-4c2d-9d69-bf3b20ee3a1c"
      },
      "execution_count": 20,
      "outputs": [
        {
          "output_type": "display_data",
          "data": {
            "image/png": "[encoded data removed]",
            "text/plain": [
              "<Figure size 432x288 with 1 Axes>"
            ]
          },
          "metadata": {
            "needs_background": "light"
          }
        }
      ]
    },
    {
      "cell_type": "code",
      "source": [
        "# Plotting ACF and PACF to determine p and q of ARIMA\n",
        "\n",
        "import statsmodels.graphics.tsaplots as tsa\n",
        "\n",
        "## Creating the figure\n",
        "plt.figure()\n",
        "\n",
        "## Creating the first plot\n",
        "plt.subplot(2,1,1)\n",
        "tsa.plot_acf(series, lags=20, ax=plt.gca())\n",
        "\n",
        "## Creating the second plot\n",
        "plt.subplot(2,1,2)\n",
        "tsa.plot_pacf(series, lags=20, ax=plt.gca())\n",
        "plt.show()"
      ],
      "metadata": {
        "colab": {
          "base_uri": "https://localhost:8080/",
          "height": 281
        },
        "id": "lb9QcJsXHEaf",
        "outputId": "6ad476ca-0834-42ed-9388-c0b7ed5f5581"
      },
      "execution_count": 21,
      "outputs": [
        {
          "output_type": "display_data",
          "data": {
            "image/png": "[encoded data removed]",
            "text/plain": [
              "<Figure size 432x288 with 2 Axes>"
            ]
          },
          "metadata": {
            "needs_background": "light"
          }
        }
      ]
    },
    {
      "cell_type": "markdown",
      "source": [
        "* the ACF shows significant lags to 4 time steps\n",
        "* PACF shows significant lags to 1 time step"
      ],
      "metadata": {
        "id": "nqnELlRbT1j2"
      }
    },
    {
      "cell_type": "code",
      "source": [
        "from statsmodels.tsa.arima_model import ARIMA\n",
        "\n",
        "# prepare data\n",
        "X = series.values\n",
        "X = X.astype('float32')\n",
        "train_size = int(len(X) * 0.50)\n",
        "train, test = X[0:train_size], X[train_size:]\n",
        "\n",
        "# walk-forward validation\n",
        "history = [x for x in train]\n",
        "predictions = []\n",
        "for i in range(len(test)):\n",
        "  model = ARIMA(history, order=(4,1,1))\n",
        "  model_fit = model.fit(disp=0)\n",
        "  yhat = model_fit.forecast()[0]\n",
        "  predictions.append(yhat)\n",
        "\n",
        "  obs = test[i]\n",
        "  history.append(obs)\n",
        "  print(f'>Predicted: {yhat[0]:.3f}, Expected: {obs:.3f}')\n",
        "rmse = np.sqrt(mean_squared_error(test, predictions))\n",
        "print(f\"RMSE: {rmse:.3f}\")"
      ],
      "metadata": {
        "colab": {
          "base_uri": "https://localhost:8080/"
        },
        "id": "84nJ6BMUSrz2",
        "outputId": "ce8e9486-5188-4503-ad04-ef923b0a92e8"
      },
      "execution_count": 22,
      "outputs": [
        {
          "output_type": "stream",
          "name": "stdout",
          "text": [
            ">Predicted: 548.319, Expected: 503.000\n",
            ">Predicted: 545.085, Expected: 503.000\n",
            ">Predicted: 546.061, Expected: 515.000\n",
            ">Predicted: 550.660, Expected: 522.000\n",
            ">Predicted: 552.011, Expected: 492.000\n",
            ">Predicted: 519.221, Expected: 503.000\n",
            ">Predicted: 527.953, Expected: 503.000\n",
            ">Predicted: 534.026, Expected: 450.000\n",
            ">Predicted: 474.119, Expected: 432.000\n",
            ">Predicted: 456.458, Expected: 432.000\n",
            ">Predicted: 465.408, Expected: 458.000\n",
            ">Predicted: 481.425, Expected: 462.000\n",
            ">Predicted: 476.155, Expected: 503.000\n",
            ">Predicted: 511.083, Expected: 488.000\n",
            ">Predicted: 497.183, Expected: 466.000\n",
            ">Predicted: 460.301, Expected: 492.000\n",
            ">Predicted: 506.310, Expected: 503.000\n",
            ">Predicted: 515.928, Expected: 515.000\n",
            ">Predicted: 516.368, Expected: 500.000\n",
            ">Predicted: 504.364, Expected: 522.000\n"
          ]
        },
        {
          "output_type": "stream",
          "name": "stderr",
          "text": [
            "/usr/local/lib/python3.7/dist-packages/statsmodels/tsa/tsatools.py:668: RuntimeWarning: overflow encountered in exp\n",
            "  newparams = ((1-np.exp(-params))/(1+np.exp(-params))).copy()\n",
            "/usr/local/lib/python3.7/dist-packages/statsmodels/tsa/tsatools.py:668: RuntimeWarning: invalid value encountered in true_divide\n",
            "  newparams = ((1-np.exp(-params))/(1+np.exp(-params))).copy()\n",
            "/usr/local/lib/python3.7/dist-packages/statsmodels/tsa/tsatools.py:669: RuntimeWarning: overflow encountered in exp\n",
            "  tmp = ((1-np.exp(-params))/(1+np.exp(-params))).copy()\n",
            "/usr/local/lib/python3.7/dist-packages/statsmodels/tsa/tsatools.py:669: RuntimeWarning: invalid value encountered in true_divide\n",
            "  tmp = ((1-np.exp(-params))/(1+np.exp(-params))).copy()\n"
          ]
        },
        {
          "output_type": "stream",
          "name": "stdout",
          "text": [
            ">Predicted: 525.885, Expected: 575.000\n",
            ">Predicted: 579.358, Expected: 583.000\n",
            ">Predicted: 575.313, Expected: 587.000\n",
            ">Predicted: 573.357, Expected: 628.000\n",
            ">Predicted: 622.134, Expected: 640.000\n",
            ">Predicted: 632.300, Expected: 609.000\n",
            ">Predicted: 595.782, Expected: 606.000\n",
            ">Predicted: 602.448, Expected: 632.000\n",
            ">Predicted: 635.946, Expected: 617.000\n",
            ">Predicted: 614.239, Expected: 613.000\n",
            ">Predicted: 609.030, Expected: 598.000\n",
            ">Predicted: 601.829, Expected: 575.000\n",
            ">Predicted: 580.316, Expected: 564.000\n",
            ">Predicted: 574.084, Expected: 549.000\n",
            ">Predicted: 562.009, Expected: 538.000\n",
            "RMSE: 31.097\n"
          ]
        }
      ]
    },
    {
      "cell_type": "markdown",
      "source": [
        "## Grid Search"
      ],
      "metadata": {
        "id": "I0NHoezziWEN"
      }
    },
    {
      "cell_type": "code",
      "source": [
        "# # evaluate an ARIMA model for a given order (p,d,q) and return RMSE\n",
        "# def evaluate_arima_model(X, arima_order): \n",
        "#   # prepare training dataset\n",
        "#   X = X.astype('float32')\n",
        "#   train_size = int(len(X) * 0.50)\n",
        "#   train, test = X[0:train_size], X[train_size:]\n",
        "#   history = [x for x in train]\n",
        "#   # make predictions\n",
        "#   predictions = list()\n",
        "#   for t in range(len(test)):\n",
        "#     model = ARIMA(history, order=arima_order) # model_fit = model.fit(disp=0)\n",
        "#     model_fit = model.fit(trend='nc', disp=0) \n",
        "#     yhat = model_fit.forecast()[0] \n",
        "#     predictions.append(yhat) \n",
        "#     history.append(test[t])\n",
        "#   # calculate out of sample error\n",
        "#   rmse = np.sqrt(mean_squared_error(test, predictions))\n",
        "#   return rmse\n",
        "\n",
        "# # evaluate combinations of p, d and q values for an ARIMA model\n",
        "# def evaluate_models(dataset, p_values, d_values, q_values): \n",
        "#   dataset = dataset.astype('float32')\n",
        "#   best_score, best_cfg = float(\"inf\"), None\n",
        "#   for p in p_values:\n",
        "#     for d in d_values:\n",
        "#       for q in q_values:\n",
        "#         order = (p,d,q)\n",
        "#         try:\n",
        "#           rmse = evaluate_arima_model(dataset, order)\n",
        "#           if rmse < best_score:\n",
        "#             best_score, best_cfg = rmse, order \n",
        "#           print('ARIMA%s RMSE=%.3f' % (order,rmse))\n",
        "#         except:\n",
        "#           continue\n",
        "#   print('Best ARIMA%s RMSE=%.3f' % (best_cfg, best_score))\n",
        "\n",
        "# # evaluate parameters\n",
        "# p_values = range(0, 5)\n",
        "# d_values = range(0, 3)\n",
        "# q_values = range(0, 5)\n",
        "# warnings.filterwarnings(\"ignore\")\n",
        "# evaluate_models(series.values, p_values, d_values, q_values)"
      ],
      "metadata": {
        "id": "A1hNUs37Y9SL"
      },
      "execution_count": 23,
      "outputs": []
    },
    {
      "cell_type": "markdown",
      "source": [
        "* Running the Grid Search gives values ARIMA(2, 1, 0) as the best values"
      ],
      "metadata": {
        "id": "R5m9rRM2krPO"
      }
    },
    {
      "cell_type": "markdown",
      "source": [
        "## Reviewing the Residual Errors"
      ],
      "metadata": {
        "id": "YLqm1bWBouq_"
      }
    },
    {
      "cell_type": "code",
      "source": [
        "# prepare data\n",
        "X = series.values\n",
        "X = X.astype('float32')\n",
        "train_size = int(len(X) * 0.50)\n",
        "train, test = X[0:train_size], X[train_size:]\n",
        "\n",
        "# walk-forward validation\n",
        "history = [x for x in train]\n",
        "predictions = []\n",
        "for i in range(len(test)):\n",
        "  model = ARIMA(history, order=(2,1,0))\n",
        "  model_fit = model.fit(trend='nc', disp=0)\n",
        "  yhat = model_fit.forecast()[0]\n",
        "  predictions.append(yhat)\n",
        "\n",
        "  obs = test[i]\n",
        "  history.append(obs)\n",
        "# report performance\n",
        "rmse = np.sqrt(mean_squared_error(test, predictions)) \n",
        "print(f'RMSE: {rmse:.3f}')"
      ],
      "metadata": {
        "colab": {
          "base_uri": "https://localhost:8080/"
        },
        "id": "Qqzwj9hhot4O",
        "outputId": "6c087490-5bb7-4494-eeb6-e9ad79b4c768"
      },
      "execution_count": 24,
      "outputs": [
        {
          "output_type": "stream",
          "name": "stdout",
          "text": [
            "RMSE: 21.733\n"
          ]
        }
      ]
    },
    {
      "cell_type": "code",
      "source": [
        "# Collecting the residuals\n",
        "\n",
        "residuals = [test[i]-predictions[i] for i in range(len(test))]\n",
        "residuals = pd.DataFrame(residuals)\n",
        "print(residuals.describe())"
      ],
      "metadata": {
        "colab": {
          "base_uri": "https://localhost:8080/"
        },
        "id": "uEDkKynkqzO0",
        "outputId": "61500817-4108-4c29-c92a-c25290cc3084"
      },
      "execution_count": 25,
      "outputs": [
        {
          "output_type": "stream",
          "name": "stdout",
          "text": [
            "               0\n",
            "count  35.000000\n",
            "mean    1.081625\n",
            "std    22.022566\n",
            "min   -52.103812\n",
            "25%   -16.202280\n",
            "50%    -0.459805\n",
            "75%    12.085093\n",
            "max    51.284333\n"
          ]
        }
      ]
    },
    {
      "cell_type": "code",
      "source": [
        "# Plotting the residuals\n",
        "\n",
        "plt.figure()\n",
        "plt.subplot(2,1,1)\n",
        "residuals.hist(ax=plt.gca())\n",
        "plt.title(\"Distribution of Residuals\")\n",
        "\n",
        "plt.subplot(2,1,2)\n",
        "residuals.plot(kind='kde', ax=plt.gca())\n",
        "plt.show()"
      ],
      "metadata": {
        "colab": {
          "base_uri": "https://localhost:8080/",
          "height": 281
        },
        "id": "V7KspD0gq8HJ",
        "outputId": "d8ff59f0-b217-4abd-e879-e25db5324f6c"
      },
      "execution_count": 26,
      "outputs": [
        {
          "output_type": "display_data",
          "data": {
            "image/png": "[encoded data removed]",
            "text/plain": [
              "<Figure size 432x288 with 2 Axes>"
            ]
          },
          "metadata": {
            "needs_background": "light"
          }
        }
      ]
    },
    {
      "cell_type": "markdown",
      "source": [
        "The mean of the residuals is 1.08 so the predictions should be corrected by that much."
      ],
      "metadata": {
        "id": "3braILntr91p"
      }
    },
    {
      "cell_type": "code",
      "source": [
        "# prepare data\n",
        "X = series.values\n",
        "X = X.astype('float32')\n",
        "train_size = int(len(X) * 0.50)\n",
        "train, test = X[0:train_size], X[train_size:]\n",
        "\n",
        "# walk-forward validation\n",
        "history = [x for x in train]\n",
        "predictions = []\n",
        "bias = residuals.mean()\n",
        "for i in range(len(test)):\n",
        "  # predict\n",
        "  model = ARIMA(history, order=(2,1,0)) \n",
        "  model_fit = model.fit(trend='nc', disp=0) \n",
        "  yhat = bias + float(model_fit.forecast()[0]) \n",
        "  predictions.append(yhat)\n",
        "  \n",
        "  # observation\n",
        "  obs = test[i]\n",
        "  history.append(obs)\n",
        "\n",
        "# report performance\n",
        "rmse = np.sqrt(mean_squared_error(test, predictions)) \n",
        "print(f'RMSE: {rmse:.3f}')"
      ],
      "metadata": {
        "colab": {
          "base_uri": "https://localhost:8080/"
        },
        "id": "GJdtAJlwrc7b",
        "outputId": "7faa0512-3ed0-4b9b-c9ad-20e070cbca7c"
      },
      "execution_count": 27,
      "outputs": [
        {
          "output_type": "stream",
          "name": "stdout",
          "text": [
            "RMSE: 21.706\n"
          ]
        }
      ]
    },
    {
      "cell_type": "code",
      "source": [
        "# summarize residual errors\n",
        "residuals = [test[i]-predictions[i] for i in range(len(test))] \n",
        "residuals = pd.DataFrame(residuals)\n",
        "print(residuals.describe())"
      ],
      "metadata": {
        "colab": {
          "base_uri": "https://localhost:8080/"
        },
        "id": "bHNkhZ7MxD76",
        "outputId": "8611baef-cd96-4bed-edfc-9e6aaa9c7a2b"
      },
      "execution_count": 28,
      "outputs": [
        {
          "output_type": "stream",
          "name": "stdout",
          "text": [
            "                  0\n",
            "count  3.500000e+01\n",
            "mean   6.496391e-15\n",
            "std    2.202257e+01\n",
            "min   -5.318544e+01\n",
            "25%   -1.728390e+01\n",
            "50%   -1.541429e+00\n",
            "75%    1.100347e+01\n",
            "max    5.020271e+01\n"
          ]
        }
      ]
    },
    {
      "cell_type": "markdown",
      "source": [
        "## Validating the Model"
      ],
      "metadata": {
        "id": "6d1H-zs5zeXh"
      }
    },
    {
      "cell_type": "code",
      "source": [
        "# monkey patch around bug in ARIMA class\n",
        "def __getnewargs__(self):\n",
        "  return ((self.endog),(self.k_lags, self.k_diff, self.k_ma))\n",
        "\n",
        "ARIMA.__getnewargs__ = __getnewargs__"
      ],
      "metadata": {
        "id": "iWfyW0guxWBv"
      },
      "execution_count": 29,
      "outputs": []
    },
    {
      "cell_type": "code",
      "source": [
        "# prepare data\n",
        "X = series.values\n",
        "X = X.astype('float32')\n",
        "\n",
        "# fit model\n",
        "model = ARIMA(X, order=(2,1,0))\n",
        "model_fit = model.fit(trend='nc', disp=0)\n",
        "\n",
        "# bias constant, could be calculated from in-sample mean residual bias = 1.081624\n",
        "# save model\n",
        "model_fit.save('model.pkl')\n",
        "np.save('model_bias.npy', [bias])"
      ],
      "metadata": {
        "id": "DAKkHSjS2hjF"
      },
      "execution_count": 30,
      "outputs": []
    },
    {
      "cell_type": "code",
      "source": [
        "from statsmodels.tsa.arima_model import ARIMAResults\n",
        "\n",
        "model_fit = ARIMAResults.load('model.pkl')\n",
        "bias = np.load('model_bias.npy')\n",
        "yhat = bias + float(model_fit.forecast()[0]) \n",
        "print(f'Predicted: {yhat[0][0]:.3f}')"
      ],
      "metadata": {
        "colab": {
          "base_uri": "https://localhost:8080/"
        },
        "id": "g_PkIrFR2sN6",
        "outputId": "0846d206-ee2b-4c58-f95e-c84bfdca0ed0"
      },
      "execution_count": 31,
      "outputs": [
        {
          "output_type": "stream",
          "name": "stdout",
          "text": [
            "Predicted: 540.013\n"
          ]
        }
      ]
    },
    {
      "cell_type": "code",
      "source": [
        "# Processing the validation data\n",
        "\n",
        "y = pd.Series(valid['Water'])\n",
        "y = y.values.astype('float32')\n",
        "y"
      ],
      "metadata": {
        "colab": {
          "base_uri": "https://localhost:8080/"
        },
        "id": "wnhgC6lJVB2G",
        "outputId": "e39b9752-b7a5-45da-de99-6ed151e10586"
      },
      "execution_count": 32,
      "outputs": [
        {
          "output_type": "execute_result",
          "data": {
            "text/plain": [
              "array([568., 575., 579., 587., 602., 594., 587., 587., 625., 613.],\n",
              "      dtype=float32)"
            ]
          },
          "metadata": {},
          "execution_count": 32
        }
      ]
    },
    {
      "cell_type": "code",
      "source": [
        "# Loading the model and bias\n",
        "\n",
        "model_fit = ARIMAResults.load('model.pkl')\n",
        "bias = np.load('model_bias.npy')"
      ],
      "metadata": {
        "id": "vPEgox-nTWiq"
      },
      "execution_count": 33,
      "outputs": []
    },
    {
      "cell_type": "code",
      "source": [
        "# Making the first prediction\n",
        "\n",
        "predictions = []\n",
        "yhat = bias + float(model_fit.forecast()[0]) \n",
        "predictions.append(yhat[0])\n",
        "history.append(y[0])"
      ],
      "metadata": {
        "id": "tkw2js2LXIDK"
      },
      "execution_count": 34,
      "outputs": []
    },
    {
      "cell_type": "code",
      "source": [
        "# Rolling forecast\n",
        "\n",
        "for i in range(1, len(y)):\n",
        "  ## Predicting\n",
        "  model = ARIMA(history, order=(2,1,0))\n",
        "  model_fit = model.fit(trend='nc', disp=0)\n",
        "  yhat = bias + float(model_fit.forecast()[0]) \n",
        "  predictions.append(yhat[0])\n",
        "  \n",
        "  ## Observation\n",
        "  obs = y[i]\n",
        "  history.append(obs)\n",
        "  print('>Predicted=%.3f, Expected=%.3f' % (yhat, obs))"
      ],
      "metadata": {
        "colab": {
          "base_uri": "https://localhost:8080/"
        },
        "id": "tl9Mvd2YYRru",
        "outputId": "f88a01e4-3f80-4c89-b6d6-e7310c7e1114"
      },
      "execution_count": 35,
      "outputs": [
        {
          "output_type": "stream",
          "name": "stdout",
          "text": [
            ">Predicted=571.589, Expected=575.000\n",
            ">Predicted=573.289, Expected=579.000\n",
            ">Predicted=579.561, Expected=587.000\n",
            ">Predicted=588.063, Expected=602.000\n",
            ">Predicted=603.022, Expected=594.000\n",
            ">Predicted=593.178, Expected=587.000\n",
            ">Predicted=588.558, Expected=587.000\n",
            ">Predicted=588.797, Expected=625.000\n",
            ">Predicted=627.941, Expected=613.000\n"
          ]
        }
      ]
    },
    {
      "cell_type": "code",
      "source": [
        "# Calculating the RMSE\n",
        "\n",
        "rmse = np.sqrt(mean_squared_error(y, predictions))\n",
        "print(f'RMSE: {rmse:.3f}')"
      ],
      "metadata": {
        "colab": {
          "base_uri": "https://localhost:8080/"
        },
        "id": "MqTHhzggYhFj",
        "outputId": "b705f180-df14-40ba-8496-8836003b3944"
      },
      "execution_count": 36,
      "outputs": [
        {
          "output_type": "stream",
          "name": "stdout",
          "text": [
            "RMSE: 16.532\n"
          ]
        }
      ]
    },
    {
      "cell_type": "code",
      "source": [
        "# Plotting predictions and actual\n",
        "\n",
        "plt.plot(y, label='Actual')\n",
        "plt.plot(predictions, color='red', label='Predictions')\n",
        "plt.title('Actual vs. Predictions')\n",
        "plt.xlabel('Month')\n",
        "plt.ylabel('Water Usage')\n",
        "plt.legend()\n",
        "plt.show()"
      ],
      "metadata": {
        "colab": {
          "base_uri": "https://localhost:8080/",
          "height": 295
        },
        "id": "wbWHMi1FYvOU",
        "outputId": "17586183-175e-4e3c-e5bd-093e16cf6e38"
      },
      "execution_count": 37,
      "outputs": [
        {
          "output_type": "display_data",
          "data": {
            "image/png": "[encoded data removed]",
            "text/plain": [
              "<Figure size 432x288 with 1 Axes>"
            ]
          },
          "metadata": {
            "needs_background": "light"
          }
        }
      ]
    },
    {
      "cell_type": "code",
      "source": [
        ""
      ],
      "metadata": {
        "id": "sUR4LMD2ZUra"
      },
      "execution_count": 37,
      "outputs": []
    }
  ]
}